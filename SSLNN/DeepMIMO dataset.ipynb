{
 "cells": [
  {
   "cell_type": "code",
   "execution_count": 1,
   "id": "ea9027e1",
   "metadata": {
    "scrolled": true
   },
   "outputs": [
    {
     "name": "stdout",
     "output_type": "stream",
     "text": [
      "\n",
      "Basestation 1\n",
      "\n",
      "UE-BS Channels\n"
     ]
    },
    {
     "name": "stderr",
     "output_type": "stream",
     "text": [
      "Reading ray-tracing: 100%|██████████| 108600/108600 [00:01<00:00, 94358.93it/s]\n",
      "Generating channels: 100%|██████████| 18281/18281 [00:02<00:00, 7451.16it/s]\n"
     ]
    },
    {
     "name": "stdout",
     "output_type": "stream",
     "text": [
      "\n",
      "BS-BS Channels\n"
     ]
    },
    {
     "name": "stderr",
     "output_type": "stream",
     "text": [
      "Reading ray-tracing: 100%|██████████| 3/3 [00:00<00:00, 3008.83it/s]\n",
      "Generating channels: 100%|██████████| 2/2 [00:00<00:00, 2004.93it/s]\n"
     ]
    },
    {
     "name": "stdout",
     "output_type": "stream",
     "text": [
      "\n",
      "Basestation 3\n",
      "\n",
      "UE-BS Channels\n"
     ]
    },
    {
     "name": "stderr",
     "output_type": "stream",
     "text": [
      "Reading ray-tracing: 100%|██████████| 108600/108600 [00:01<00:00, 99337.10it/s]\n"
     ]
    },
    {
     "name": "stdout",
     "output_type": "stream",
     "text": [
      "ToA of some paths of 549 channels with an average total power of 8.29% exceed the useful OFDM symbol duration and are clipped.\n"
     ]
    },
    {
     "name": "stderr",
     "output_type": "stream",
     "text": [
      "Generating channels: 100%|██████████| 18281/18281 [00:01<00:00, 10527.73it/s]\n"
     ]
    },
    {
     "name": "stdout",
     "output_type": "stream",
     "text": [
      "\n",
      "BS-BS Channels\n"
     ]
    },
    {
     "name": "stderr",
     "output_type": "stream",
     "text": [
      "Reading ray-tracing: 100%|██████████| 3/3 [00:00<?, ?it/s]\n",
      "Generating channels: 100%|██████████| 2/2 [00:00<00:00, 2004.45it/s]\n"
     ]
    }
   ],
   "source": [
    "import DeepMIMO\n",
    "import numpy as np\n",
    "import math\n",
    "\n",
    "# Load the default parameters\n",
    "parameters = DeepMIMO.default_params()\n",
    "\n",
    "# Set the main folder containing extracted scenarios\n",
    "parameters['dataset_folder'] = r'E:\\DeepMIMO-codes\\DeepMIMO_Dataset_Generation_v1.1\\RayTracing Scenarios'\n",
    "\n",
    "# Set scenario name\n",
    "parameters['scenario'] = 'O1_3p5B'\n",
    "\n",
    "#num of multipath\n",
    "parameters['num_paths'] = 3\n",
    "\n",
    "#active BS\n",
    "parameters['active_BS'] = np.array([1,3])\n",
    "\n",
    "# Define 3 different antennas:\n",
    "Nix = 8\n",
    "Niy = 8\n",
    "Nt = 4\n",
    "antenna1 = {'shape': np.array([1, Nix, Niy]),#RIS antennas\n",
    "            'spacing': 0.5,}\n",
    "antenna2 = {'shape': np.array([1, Nt, Nt]),#BS anteannas\n",
    "            'spacing': 0.5,}\n",
    "parameters['bs_antenna'] = [antenna1, antenna2]\n",
    "\n",
    "# To set the user grid\n",
    "parameters['user_row_first'] = 500\n",
    "parameters['user_row_last'] = 600\n",
    "\n",
    "# UE antennas\n",
    "Nr = 4\n",
    "parameters['ue_antenna']['shape'] = np.array([1,Nr,Nr])\n",
    "parameters['ue_antenna']['spacing'] = 0.5\n",
    "\n",
    "#non OFDM\n",
    "parameters['activate_OFDM'] = 0\n",
    "parameters['OFDM']['bandwidth'] = 0.1 # 100 MHz\n",
    "parameters['OFDM']['subcarriers'] = 64 # OFDM with 4 subcarriers\n",
    "parameters['OFDM']['subcarriers_limit'] = 1 # Keep only first 64 subcarriers\n",
    "\n",
    "# To generate basestation to basestation output variables, set\n",
    "parameters['enable_BS2BS'] = True\n",
    "\n",
    "# Generate data\n",
    "dataset = DeepMIMO.generate_data(parameters)\n",
    "\n",
    "#print(dataset)\n",
    "#np.save(\"./dataset.npy\",dataset)"
   ]
  },
  {
   "cell_type": "code",
   "execution_count": 2,
   "id": "26cfe0a0",
   "metadata": {},
   "outputs": [
    {
     "name": "stdout",
     "output_type": "stream",
     "text": [
      "(256, 18100)\n"
     ]
    }
   ],
   "source": [
    "# direct link BS-UE channels\n",
    "dd = np.zeros(((Nr**2)*(Nt**2),18100), dtype=complex)\n",
    "for count in range(0,18099):\n",
    "    dlink = (dataset[1]['user']['channel'][count])\n",
    "    dd[:,count] = dlink.flatten()\n",
    "print(np.shape(dd))"
   ]
  },
  {
   "cell_type": "code",
   "execution_count": 3,
   "id": "87a37dae",
   "metadata": {
    "scrolled": true
   },
   "outputs": [
    {
     "name": "stdout",
     "output_type": "stream",
     "text": [
      "18098\n",
      "(256, 18100)\n"
     ]
    }
   ],
   "source": [
    "# cascaded channels\n",
    "GG = np.zeros(((Nr**2)*(Nt**2),18100), dtype=complex)\n",
    "htlink = (dataset[0]['basestation']['channel'][1])\n",
    "rr = np.zeros(((Nr**2)*(Nix*Niy),18100), dtype=complex)\n",
    "for count1 in range(0,18099):\n",
    "    hrlink = (dataset[0]['user']['channel'][count1])\n",
    "    rr[:,count1] = (hrlink).flatten()\n",
    "    Gchannel = np.squeeze(hrlink) @ np.squeeze(htlink).T\n",
    "    GG[:,count1] = Gchannel.flatten()\n",
    "print(count1)\n",
    "print(np.shape(GG))"
   ]
  },
  {
   "cell_type": "code",
   "execution_count": 4,
   "id": "a0604f23",
   "metadata": {},
   "outputs": [],
   "source": [
    "# Overall channels & Noises\n",
    "Ochannel = GG + dd\n",
    "# AWGN generation\n",
    "Pt = 25 #transmit power\n",
    "Gt = 3\n",
    "Gr = 3\n",
    "NF = 5 # noise figure\n",
    "PG = 10 # processing gain\n",
    "npower = -204 + 10*math.log(parameters['OFDM']['bandwidth']*10**9,10)+NF-PG #Noise power = -129 dB\n",
    "npowerl = 10**(0.1*npower)/10**(0.1*(Gt+Gr+Pt))\n",
    "awgn = np.real((npower/2)**0.5)*(np.random.randn((Nr**2)*(Nt**2),18100)+np.random.randn((Nr**2)*(Nt**2),18100)*1j)\n",
    "# AWGN channel\n",
    "awgnchannel = Ochannel + awgn\n",
    "\n",
    "np.save(\"./Overallchannel.npy\",Ochannel)\n",
    "np.save(\"./noisechannel.npy\",awgnchannel)\n",
    "np.save(\"./receiverlink.npy\",rr)\n",
    "np.save(\"./directlink.npy\",dd)\n",
    "np.save(\"./transmitterlink.npy\",np.squeeze(htlink))"
   ]
  },
  {
   "cell_type": "code",
   "execution_count": 5,
   "id": "46670e87",
   "metadata": {},
   "outputs": [
    {
     "name": "stdout",
     "output_type": "stream",
     "text": [
      "(1024, 18100)\n"
     ]
    }
   ],
   "source": [
    "#print(htlink.shape)\n",
    "#print(rr.shape)\n",
    "#print(dd.shape)\n",
    "print(rr.shape)"
   ]
  }
 ],
 "metadata": {
  "kernelspec": {
   "display_name": "Python 3 (ipykernel)",
   "language": "python",
   "name": "python3"
  },
  "language_info": {
   "codemirror_mode": {
    "name": "ipython",
    "version": 3
   },
   "file_extension": ".py",
   "mimetype": "text/x-python",
   "name": "python",
   "nbconvert_exporter": "python",
   "pygments_lexer": "ipython3",
   "version": "3.9.16"
  }
 },
 "nbformat": 4,
 "nbformat_minor": 5
}
