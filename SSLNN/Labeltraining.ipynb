{
 "cells": [
  {
   "cell_type": "code",
   "execution_count": 1,
   "id": "857f36ac",
   "metadata": {},
   "outputs": [
    {
     "name": "stderr",
     "output_type": "stream",
     "text": [
      "E:\\anaconda\\envs\\deepmimo\\lib\\site-packages\\tqdm\\auto.py:22: TqdmWarning: IProgress not found. Please update jupyter and ipywidgets. See https://ipywidgets.readthedocs.io/en/stable/user_install.html\n",
      "  from .autonotebook import tqdm as notebook_tqdm\n"
     ]
    }
   ],
   "source": [
    "import time\n",
    "import torch,gc\n",
    "import torch.nn as nn\n",
    "import torch.nn.functional as F\n",
    "import torch.utils.data as Data\n",
    "from torch.utils.data import Dataset\n",
    "import random\n",
    "import numpy as np\n",
    "from torch import tensor\n",
    "from math import e\n",
    "\n",
    "Nr=4;Nt=4;K=4\n",
    "channel = torch.from_numpy(np.load('noisechannel.npy',allow_pickle=True))\n",
    "imagechannel = channel.view(18100,Nr**2,Nt**2)"
   ]
  },
  {
   "cell_type": "code",
   "execution_count": 2,
   "id": "97f2b0b1",
   "metadata": {},
   "outputs": [
    {
     "ename": "NameError",
     "evalue": "name 'datax' is not defined",
     "output_type": "error",
     "traceback": [
      "\u001b[1;31m---------------------------------------------------------------------------\u001b[0m",
      "\u001b[1;31mNameError\u001b[0m                                 Traceback (most recent call last)",
      "Cell \u001b[1;32mIn[2], line 6\u001b[0m\n\u001b[0;32m      3\u001b[0m device\n\u001b[0;32m      5\u001b[0m minibatch \u001b[38;5;241m=\u001b[39m \u001b[38;5;241m256\u001b[39m\n\u001b[1;32m----> 6\u001b[0m trainset \u001b[38;5;241m=\u001b[39m Data\u001b[38;5;241m.\u001b[39mTensorDataset(\u001b[43mdatax\u001b[49m,datay)\n\u001b[0;32m      7\u001b[0m train_loader \u001b[38;5;241m=\u001b[39m Data\u001b[38;5;241m.\u001b[39mDataLoader(dataset \u001b[38;5;241m=\u001b[39m trainset, batch_size \u001b[38;5;241m=\u001b[39m minibatch, shuffle\u001b[38;5;241m=\u001b[39m\u001b[38;5;28;01mTrue\u001b[39;00m, num_workers \u001b[38;5;241m=\u001b[39m \u001b[38;5;241m2\u001b[39m, drop_last \u001b[38;5;241m=\u001b[39m \u001b[38;5;28;01mTrue\u001b[39;00m)\n",
      "\u001b[1;31mNameError\u001b[0m: name 'datax' is not defined"
     ]
    }
   ],
   "source": [
    "###### define the device to use\n",
    "device = torch.device(\"cuda:0\" if torch.cuda.is_available() else \"cpu\")\n",
    "device\n",
    "\n",
    "minibatch = 256\n",
    "trainset = Data.TensorDataset(datax,datay)\n",
    "train_loader = Data.DataLoader(dataset = trainset, batch_size = minibatch, shuffle=True, num_workers = 2, drop_last = True)"
   ]
  },
  {
   "cell_type": "code",
   "execution_count": null,
   "id": "570005be",
   "metadata": {},
   "outputs": [],
   "source": [
    "class network(nn.Module):\n",
    "    def __init__(self):\n",
    "        super(network, self).__init__()\n",
    "        self.conv1 = nn.Conv2d(8, 8, kernel_size=2, stride=1)\n",
    "        self.bn1 = nn.BatchNorm2d(8)\n",
    "        self.conv2 = nn.Conv2d(8, 16, kernel_size=2, stride=1)\n",
    "        self.bn2 = nn.BatchNorm2d(16)\n",
    "        self.conv3 = nn.Conv2d(16, 32, kernel_size=2, stride=1)\n",
    "        self.conv4 = nn.Conv2d(32, 32, kernel_size=2, stride=1)\n",
    "        self.conv5 = nn.Conv2d(32, 64, kernel_size=2, stride=1)\n",
    "        self.pool = nn.MaxPool2d(4,4)\n",
    "        self.fc1 = nn.Linear(256,512)\n",
    "        self.relu1 = nn.ReLU(inplace=False)\n",
    "        self.fc2 = nn.Linear(512,512)\n",
    "        self.relu2 = nn.ReLU(inplace=False)\n",
    "        self.fc3 = nn.Linear(512,256)\n",
    "        self.relu3 = nn.ReLU(inplace=False)\n",
    "        self.fc4 = nn.Linear(256,64)\n",
    "\n",
    "        #self.softmax = nn.Softmax(dim=0)\n",
    "        \n",
    "    def forward(self, x):\n",
    "        x = self.bn1(self.conv1(x))\n",
    "        x = self.bn2(self.conv2(x))\n",
    "        x = (self.conv3(x))\n",
    "        x = (self.conv4(x))\n",
    "        x = (self.conv5(x))\n",
    "        x = self.pool(x)\n",
    "        x = torch.flatten(x, 1)\n",
    "        x = self.relu1(self.fc1(x))\n",
    "        x = self.relu2(self.fc2(x))\n",
    "        x = self.relu3(self.fc3(x))\n",
    "        x= self.fc4(x)\n",
    "        #x = self.softmax(x)\n",
    "        return x\n",
    "\n",
    "model = network().to(device)"
   ]
  }
 ],
 "metadata": {
  "kernelspec": {
   "display_name": "Python 3 (ipykernel)",
   "language": "python",
   "name": "python3"
  },
  "language_info": {
   "codemirror_mode": {
    "name": "ipython",
    "version": 3
   },
   "file_extension": ".py",
   "mimetype": "text/x-python",
   "name": "python",
   "nbconvert_exporter": "python",
   "pygments_lexer": "ipython3",
   "version": "3.9.16"
  }
 },
 "nbformat": 4,
 "nbformat_minor": 5
}
