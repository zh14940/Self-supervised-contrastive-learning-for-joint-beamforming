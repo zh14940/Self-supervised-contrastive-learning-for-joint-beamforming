{
 "cells": [
  {
   "cell_type": "code",
   "execution_count": 3,
   "id": "35c4b1bd",
   "metadata": {},
   "outputs": [
    {
     "name": "stderr",
     "output_type": "stream",
     "text": [
      "E:\\anaconda\\envs\\deepmimo\\lib\\site-packages\\tqdm\\auto.py:22: TqdmWarning: IProgress not found. Please update jupyter and ipywidgets. See https://ipywidgets.readthedocs.io/en/stable/user_install.html\n",
      "  from .autonotebook import tqdm as notebook_tqdm\n"
     ]
    }
   ],
   "source": [
    "import numpy as np\n",
    "import math\n",
    "import torch\n",
    "import torch.nn as nn\n",
    "import torch.nn.functional as F\n",
    "import random"
   ]
  },
  {
   "cell_type": "code",
   "execution_count": 12,
   "id": "c37668a5",
   "metadata": {},
   "outputs": [
    {
     "name": "stdout",
     "output_type": "stream",
     "text": [
      "torch.Size([18100, 16, 16])\n"
     ]
    }
   ],
   "source": [
    "Nr =4;Nt=4\n",
    "channel = torch.from_numpy(np.load('noisechannel.npy',allow_pickle=True))\n",
    "imagechannel = channel.view(18100,Nr**2,Nt**2)\n",
    "np.save(\"./imagechannel.npy\",imagechannel)\n",
    "print(imagechannel.shape)\n",
    "#print(imagechannel)"
   ]
  },
  {
   "cell_type": "code",
   "execution_count": 13,
   "id": "5e9f1d42",
   "metadata": {},
   "outputs": [],
   "source": [
    "#Gaussian blur\n",
    "noiseamp = 10**-7\n",
    "gnoise = noiseamp*(torch.randn(18100,4,4)+torch.randn(18100,4,4)*1j)\n",
    "gbchannel = imagechannel + gnoise"
   ]
  },
  {
   "cell_type": "code",
   "execution_count": 5,
   "id": "fbdd479a",
   "metadata": {},
   "outputs": [
    {
     "ename": "RuntimeError",
     "evalue": "The expanded size of the tensor (4) must match the existing size (16) at non-singleton dimension 1.  Target sizes: [4, 4].  Tensor sizes: [16, 16]",
     "output_type": "error",
     "traceback": [
      "\u001b[1;31m---------------------------------------------------------------------------\u001b[0m",
      "\u001b[1;31mRuntimeError\u001b[0m                              Traceback (most recent call last)",
      "Cell \u001b[1;32mIn[5], line 10\u001b[0m\n\u001b[0;32m      8\u001b[0m r180 \u001b[38;5;241m=\u001b[39m np\u001b[38;5;241m.\u001b[39mrot90(rochannel, \u001b[38;5;241m2\u001b[39m)\u001b[38;5;241m.\u001b[39mcopy()\n\u001b[0;32m      9\u001b[0m r270 \u001b[38;5;241m=\u001b[39m np\u001b[38;5;241m.\u001b[39mrot90(rochannel, \u001b[38;5;241m3\u001b[39m)\u001b[38;5;241m.\u001b[39mcopy()\n\u001b[1;32m---> 10\u001b[0m r90channel[counter,:,:] \u001b[38;5;241m=\u001b[39m torch\u001b[38;5;241m.\u001b[39mfrom_numpy(r90)\n\u001b[0;32m     11\u001b[0m r180channel[counter,:,:] \u001b[38;5;241m=\u001b[39m torch\u001b[38;5;241m.\u001b[39mfrom_numpy(r180)\n\u001b[0;32m     12\u001b[0m r270channel[counter,:,:] \u001b[38;5;241m=\u001b[39m torch\u001b[38;5;241m.\u001b[39mfrom_numpy(r270)\n",
      "\u001b[1;31mRuntimeError\u001b[0m: The expanded size of the tensor (4) must match the existing size (16) at non-singleton dimension 1.  Target sizes: [4, 4].  Tensor sizes: [16, 16]"
     ]
    }
   ],
   "source": [
    "#Rotate\n",
    "r90channel = torch.zeros(size = (18100,Nr**2,Nt**2),dtype = torch.cfloat)\n",
    "r180channel = torch.zeros(size = (18100,Nr**2,Nt**2),dtype = torch.cfloat)\n",
    "r270channel = torch.zeros(size = (18100,Nr**2,Nt**2),dtype = torch.cfloat)\n",
    "for counter in range(0,18099):\n",
    "    rochannel = imagechannel[counter,:,:]\n",
    "    r90 = np.rot90(rochannel, 1).copy()\n",
    "    r180 = np.rot90(rochannel, 2).copy()\n",
    "    r270 = np.rot90(rochannel, 3).copy()\n",
    "    r90channel[counter,:,:] = torch.from_numpy(r90)\n",
    "    r180channel[counter,:,:] = torch.from_numpy(r180)\n",
    "    r270channel[counter,:,:] = torch.from_numpy(r270)"
   ]
  },
  {
   "cell_type": "code",
   "execution_count": 14,
   "id": "fee0aa0b",
   "metadata": {},
   "outputs": [],
   "source": [
    "#Cut out\n",
    "Ncutout = 2\n",
    "cochannel = channel/abs(channel)\n",
    "for counter in range(0,18099):\n",
    "    cutoutindex = random.sample(range(0,15),Ncutout)\n",
    "    cochannel[cutoutindex[0],counter]=0\n",
    "    cochannel[cutoutindex[1],counter]=0\n",
    "cutoutchannel = cochannel.view(18100,Nr**2,Nt**2)"
   ]
  },
  {
   "cell_type": "code",
   "execution_count": 7,
   "id": "68b3620e",
   "metadata": {},
   "outputs": [
    {
     "ename": "RuntimeError",
     "evalue": "The expanded size of the tensor (4) must match the existing size (16) at non-singleton dimension 1.  Target sizes: [4, 4].  Tensor sizes: [16, 16]",
     "output_type": "error",
     "traceback": [
      "\u001b[1;31m---------------------------------------------------------------------------\u001b[0m",
      "\u001b[1;31mRuntimeError\u001b[0m                              Traceback (most recent call last)",
      "Cell \u001b[1;32mIn[7], line 6\u001b[0m\n\u001b[0;32m      4\u001b[0m \u001b[38;5;28;01mfor\u001b[39;00m counter \u001b[38;5;129;01min\u001b[39;00m \u001b[38;5;28mrange\u001b[39m(\u001b[38;5;241m0\u001b[39m,\u001b[38;5;241m18099\u001b[39m):\n\u001b[0;32m      5\u001b[0m     flipchannel \u001b[38;5;241m=\u001b[39m imagechannel[counter,:,:]\n\u001b[1;32m----> 6\u001b[0m     vflip[counter,:,:] \u001b[38;5;241m=\u001b[39m torch\u001b[38;5;241m.\u001b[39mflip(flipchannel,[\u001b[38;5;241m0\u001b[39m])\n\u001b[0;32m      7\u001b[0m     hflip[counter,:,:] \u001b[38;5;241m=\u001b[39m torch\u001b[38;5;241m.\u001b[39mflip(flipchannel,[\u001b[38;5;241m1\u001b[39m])\n",
      "\u001b[1;31mRuntimeError\u001b[0m: The expanded size of the tensor (4) must match the existing size (16) at non-singleton dimension 1.  Target sizes: [4, 4].  Tensor sizes: [16, 16]"
     ]
    }
   ],
   "source": [
    "# flip\n",
    "vflip = torch.zeros(18100,Nr**2,Nt**2)\n",
    "hflip = torch.zeros(18100,Nr**2,Nt**2)\n",
    "for counter in range(0,18099):\n",
    "    flipchannel = imagechannel[counter,:,:]\n",
    "    vflip[counter,:,:] = torch.flip(flipchannel,[0])\n",
    "    hflip[counter,:,:] = torch.flip(flipchannel,[1])"
   ]
  },
  {
   "cell_type": "code",
   "execution_count": 6,
   "id": "82aefb26",
   "metadata": {},
   "outputs": [
    {
     "ename": "RuntimeError",
     "evalue": "The expanded size of the tensor (4) must match the existing size (16) at non-singleton dimension 1.  Target sizes: [4, 4].  Tensor sizes: [16, 16]",
     "output_type": "error",
     "traceback": [
      "\u001b[1;31m---------------------------------------------------------------------------\u001b[0m",
      "\u001b[1;31mRuntimeError\u001b[0m                              Traceback (most recent call last)",
      "Cell \u001b[1;32mIn[6], line 6\u001b[0m\n\u001b[0;32m      4\u001b[0m Hchannel \u001b[38;5;241m=\u001b[39m torch\u001b[38;5;241m.\u001b[39mzeros(\u001b[38;5;241m18100\u001b[39m,\u001b[38;5;241m4\u001b[39m,\u001b[38;5;241m4\u001b[39m)\n\u001b[0;32m      5\u001b[0m \u001b[38;5;28;01mfor\u001b[39;00m counter \u001b[38;5;129;01min\u001b[39;00m \u001b[38;5;28mrange\u001b[39m(\u001b[38;5;241m0\u001b[39m,\u001b[38;5;241m18099\u001b[39m):\n\u001b[1;32m----> 6\u001b[0m     Tchannel[counter,:,:] \u001b[38;5;241m=\u001b[39m imagechannel[counter,:,:]\u001b[38;5;241m.\u001b[39mT\n\u001b[0;32m      7\u001b[0m     Cchannel[counter,:,:] \u001b[38;5;241m=\u001b[39m imagechannel[counter,:,:]\u001b[38;5;241m.\u001b[39mconj()\n\u001b[0;32m      8\u001b[0m     Hchannel[counter,:,:] \u001b[38;5;241m=\u001b[39m (imagechannel[counter,:,:]\u001b[38;5;241m.\u001b[39mT)\u001b[38;5;241m.\u001b[39mconj()\n",
      "\u001b[1;31mRuntimeError\u001b[0m: The expanded size of the tensor (4) must match the existing size (16) at non-singleton dimension 1.  Target sizes: [4, 4].  Tensor sizes: [16, 16]"
     ]
    }
   ],
   "source": [
    "# tranpose and conjugate\n",
    "Tchannel = torch.zeros(18100,4,4)\n",
    "Cchannel = torch.zeros(18100,4,4)\n",
    "Hchannel = torch.zeros(18100,4,4)\n",
    "for counter in range(0,18099):\n",
    "    Tchannel[counter,:,:] = imagechannel[counter,:,:].T\n",
    "    Cchannel[counter,:,:] = imagechannel[counter,:,:].conj()\n",
    "    Hchannel[counter,:,:] = (imagechannel[counter,:,:].T).conj()"
   ]
  },
  {
   "cell_type": "code",
   "execution_count": 15,
   "id": "28fa36d5",
   "metadata": {},
   "outputs": [
    {
     "name": "stdout",
     "output_type": "stream",
     "text": [
      "tensor([[[-0.9838+0.1791j,  0.0000+0.0000j,  0.9218-0.3878j,  ...,\n",
      "           0.1760-0.9844j, -0.9241+0.3821j,  0.7125+0.7017j],\n",
      "         [ 0.5817+0.8134j,  0.0000+0.0000j, -0.9620+0.2730j,  ...,\n",
      "          -0.9366+0.3504j,  0.9504+0.3110j, -0.7004-0.7138j],\n",
      "         [-0.0281+0.9996j, -0.9983+0.0580j,  0.9988+0.0485j,  ...,\n",
      "          -0.7583-0.6519j,  0.1907-0.9816j, -0.1744+0.9847j],\n",
      "         ...,\n",
      "         [ 0.5680+0.8230j,  0.2574-0.9663j, -0.0300-0.9996j,  ...,\n",
      "           0.4862-0.8739j, -0.2049+0.9788j, -1.0000+0.0078j],\n",
      "         [ 0.0000+0.0000j, -0.9855+0.1697j,  0.0000+0.0000j,  ...,\n",
      "          -0.9127-0.4086j,  0.9704-0.2413j,  0.0000+0.0000j],\n",
      "         [ 0.0000+0.0000j,  0.9794-0.2020j, -0.7727+0.6348j,  ...,\n",
      "          -0.1902+0.9818j, -0.2084-0.9780j,  0.1653-0.9862j]],\n",
      "\n",
      "        [[ 0.4309+0.9024j,  0.7317-0.6816j, -0.8661-0.4998j,  ...,\n",
      "          -0.6325-0.7745j,  0.0000+0.0000j,  0.8139-0.5810j],\n",
      "         [-0.9985+0.0546j,  0.8780+0.4787j, -0.3506-0.9365j,  ...,\n",
      "          -0.9985-0.0547j,  0.9463+0.3233j, -0.4722-0.8815j],\n",
      "         [-0.3377+0.9413j,  0.9323-0.3617j, -0.8839-0.4678j,  ...,\n",
      "           0.9751+0.2220j, -0.8230+0.5680j, -0.7983+0.6022j],\n",
      "         ...,\n",
      "         [ 0.7712+0.6366j,  0.1957-0.9807j, -0.7034+0.7107j,  ...,\n",
      "           0.7025-0.7117j, -0.1225+0.9925j, -0.3058+0.9521j],\n",
      "         [-0.4935-0.8697j,  0.9264+0.3766j,  0.8180+0.5752j,  ...,\n",
      "           0.8240-0.5666j,  0.5692-0.8222j,  0.4113+0.9115j],\n",
      "         [-0.9698-0.2439j, -0.9540+0.2997j,  0.2969-0.9549j,  ...,\n",
      "          -0.5674-0.8234j,  0.9976-0.0698j,  0.3845-0.9231j]],\n",
      "\n",
      "        [[ 0.6312+0.7756j,  0.9429-0.3331j,  0.0000+0.0000j,  ...,\n",
      "          -0.7626-0.6468j, -0.5480+0.8364j, -0.5854-0.8107j],\n",
      "         [-0.4378+0.8991j, -0.3990-0.9170j,  0.9930+0.1179j,  ...,\n",
      "           0.2742+0.9617j, -0.6316-0.7753j, -0.8479+0.5301j],\n",
      "         [ 0.6482+0.7615j,  0.9767-0.2148j,  0.9901-0.1407j,  ...,\n",
      "          -0.6287+0.7777j,  0.1246+0.9922j,  0.8990+0.4380j],\n",
      "         ...,\n",
      "         [ 0.0000+0.0000j, -0.9995+0.0314j,  0.0000+0.0000j,  ...,\n",
      "           0.7864-0.6177j, -0.8117-0.5841j,  0.0000+0.0000j],\n",
      "         [ 0.0000+0.0000j,  0.9999-0.0128j, -0.4934-0.8698j,  ...,\n",
      "           0.5428-0.8399j,  0.0000+0.0000j,  0.9533+0.3020j],\n",
      "         [ 0.9632-0.2688j, -0.6774-0.7356j,  0.2187+0.9758j,  ...,\n",
      "           0.9602+0.2793j, -0.0275+0.9996j,  0.0301-0.9995j]],\n",
      "\n",
      "        ...,\n",
      "\n",
      "        [[ 0.9274+0.3742j,  0.9868-0.1622j,  0.6797+0.7335j,  ...,\n",
      "           0.1675-0.9859j,  0.7466-0.6652j,  0.1028-0.9947j],\n",
      "         [-0.6967-0.7173j, -0.9560-0.2932j, -0.6203-0.7844j,  ...,\n",
      "          -0.9999-0.0119j, -0.5353+0.8446j, -0.4605+0.8877j],\n",
      "         [ 0.0501+0.9987j,  0.9386+0.3451j,  0.6260-0.7798j,  ...,\n",
      "          -0.9345-0.3559j,  0.5579+0.8299j, -0.0661-0.9978j],\n",
      "         ...,\n",
      "         [ 0.1626-0.9867j, -0.7370-0.6759j, -0.7583-0.6519j,  ...,\n",
      "           0.8228+0.5684j,  0.8274-0.5615j, -0.4262-0.9046j],\n",
      "         [-0.9555+0.2950j, -0.9770+0.2131j,  0.5693-0.8221j,  ...,\n",
      "           0.7184-0.6957j, -0.8382+0.5454j, -0.6626-0.7490j],\n",
      "         [ 0.9527+0.3039j, -0.9198-0.3924j,  0.9750+0.2223j,  ...,\n",
      "           0.6224-0.7827j,  0.4447+0.8957j, -0.9983+0.0580j]],\n",
      "\n",
      "        [[ 0.3046-0.9525j,  0.8010+0.5987j, -0.8073+0.5901j,  ...,\n",
      "          -0.9981-0.0620j, -0.9154-0.4025j, -0.7234-0.6905j],\n",
      "         [-0.4486-0.8937j, -0.1255-0.9921j,  0.2076-0.9782j,  ...,\n",
      "          -0.4291+0.9032j, -0.6788+0.7344j, -0.8646+0.5025j],\n",
      "         [-0.9764+0.2159j, -0.9907+0.1358j, -0.9981+0.0611j,  ...,\n",
      "          -0.8384+0.5451j,  0.9496-0.3134j,  0.6461-0.7632j],\n",
      "         ...,\n",
      "         [-0.5698+0.8218j, -0.7992+0.6010j, -0.9462+0.3235j,  ...,\n",
      "          -0.1791-0.9838j, -0.1904-0.9817j, -0.2350-0.9720j],\n",
      "         [-0.3196-0.9476j,  0.7624+0.6471j,  0.9753+0.2208j,  ...,\n",
      "           0.9704-0.2414j,  0.1595+0.9872j, -0.3033+0.9529j],\n",
      "         [-0.7332-0.6800j,  0.7407+0.6718j,  0.9766+0.2149j,  ...,\n",
      "          -0.4569+0.8895j, -0.9682-0.2501j, -0.9020-0.4317j]],\n",
      "\n",
      "        [[-0.9423-0.3348j,  0.2807+0.9598j,  0.2053+0.9787j,  ...,\n",
      "          -0.5915+0.8063j, -0.0448-0.9990j, -0.3477-0.9376j],\n",
      "         [-0.6715-0.7410j,  0.9896-0.1439j,  0.9518-0.3067j,  ...,\n",
      "          -0.4879+0.8729j, -0.0542+0.9985j, -0.9987-0.0502j],\n",
      "         [-0.9162+0.4007j, -0.4812+0.8766j, -0.2498+0.9683j,  ...,\n",
      "           0.9930-0.1185j,  0.7166-0.6975j,  0.9999-0.0141j],\n",
      "         ...,\n",
      "         [-0.8126+0.5828j, -0.4944+0.8693j, -0.7827-0.6224j,  ...,\n",
      "          -0.2491+0.9685j, -0.8551+0.5184j, -0.2664+0.9639j],\n",
      "         [ 0.5475+0.8368j,  0.8987+0.4385j,  0.2482+0.9687j,  ...,\n",
      "           0.4140+0.9103j,  0.9993+0.0368j,  0.7170-0.6971j],\n",
      "         [ 0.8534-0.5213j,  0.1813-0.9834j, -0.8431-0.5377j,  ...,\n",
      "           0.5595-0.8288j, -0.6355-0.7721j,  0.0248-0.9997j]]],\n",
      "       dtype=torch.complex128)\n"
     ]
    }
   ],
   "source": [
    "print(cutoutchannel)"
   ]
  }
 ],
 "metadata": {
  "kernelspec": {
   "display_name": "Python 3 (ipykernel)",
   "language": "python",
   "name": "python3"
  },
  "language_info": {
   "codemirror_mode": {
    "name": "ipython",
    "version": 3
   },
   "file_extension": ".py",
   "mimetype": "text/x-python",
   "name": "python",
   "nbconvert_exporter": "python",
   "pygments_lexer": "ipython3",
   "version": "3.9.16"
  }
 },
 "nbformat": 4,
 "nbformat_minor": 5
}
